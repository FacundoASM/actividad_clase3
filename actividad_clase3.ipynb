{
 "cells": [
  {
   "cell_type": "markdown",
   "metadata": {},
   "source": [
    "<h1>Actividad - Clase nro 3 </h2>\n",
    "\n",
    "\n",
    "<h2>Ejercicios de Datos Complejos</h2>\n",
    "\n",
    "<h3>1. Datos Simples</h3>\n",
    "\n",
    "<li>Crea una lista de nombres de ciudades</li>"
   ]
  },
  {
   "cell_type": "code",
   "execution_count": 3,
   "metadata": {},
   "outputs": [],
   "source": [
    "n_ciu=['Rio Grande','Ushuaia','Tolhuin']"
   ]
  },
  {
   "cell_type": "markdown",
   "metadata": {},
   "source": [
    "<li>Crear un diccionario con información de empleados (nombre, cargo, salario)</li>"
   ]
  },
  {
   "cell_type": "code",
   "execution_count": 4,
   "metadata": {},
   "outputs": [],
   "source": [
    "Empleados={\n",
    "    \"E1\": {\n",
    "        \"Nombre\": \"Facundo\",\n",
    "        \"Cargo\": \"Gerente de gerentes\",\n",
    "        \"Salario\": 100\n",
    "    },\n",
    "    \"E2\": {\n",
    "        \"Nombre\": \"Agustina\",\n",
    "        \"Cargo\": \"Sirvienta de Facundo\",\n",
    "        \"Salario\": 1\n",
    "    }\n",
    "}"
   ]
  },
  {
   "cell_type": "markdown",
   "metadata": {},
   "source": [
    "\n",
    "<li>Mostrar cómo acceder a un elemento específico en una lista y un diccionario</li>"
   ]
  },
  {
   "cell_type": "code",
   "execution_count": 11,
   "metadata": {},
   "outputs": [
    {
     "name": "stdout",
     "output_type": "stream",
     "text": [
      "Rio Grande\n",
      "Facundo\n"
     ]
    }
   ],
   "source": [
    "#Acceder a elemento en lista:\n",
    "\n",
    "n_ciu=['Rio Grande','Ushuaia','Tolhuin']\n",
    "\n",
    "print(n_ciu[0])\n",
    "\n",
    "#Arrancamos por el \"0\" para el primer elemento en la lista\n",
    "\n",
    "#-------------------------------------------------\n",
    "\n",
    "#Acceder a elemento espec'ifico en diccionario:\n",
    "\n",
    "Empleados={\n",
    "    \"E1\": {\n",
    "        \"Nombre\": \"Facundo\",\n",
    "        \"Cargo\": \"Gerente de gerentes\",\n",
    "        \"Salario\": 100\n",
    "    },\n",
    "    \"E2\": {\n",
    "        \"Nombre\": \"Agustina\",\n",
    "        \"Cargo\": \"Sirvienta de Facundo\",\n",
    "        \"Salario\": 1\n",
    "    }\n",
    "}\n",
    "\n",
    "print(Empleados[\"E1\"][\"Nombre\"])"
   ]
  },
  {
   "cell_type": "markdown",
   "metadata": {},
   "source": [
    "<h4>1. Manipulacion de Listas y Metodos</h4>\n",
    "<li>Crea una lista inicial de numeros enteros</li>\n",
    "<li>Utiliza el metodo .append() para agregar un numero al final de la lista</li>\n",
    "<li>Utiliza el metodo .extend para agregar multiples elementos a la lista</li>\n",
    "<li>Utiliza el metodo .insert() para insertar un numero en una posicion especifica</li>\n",
    "<li>Muestra como utilizar el metodo .sort() para ordenar la lista de forma ascendente</li>"
   ]
  },
  {
   "cell_type": "code",
   "execution_count": 18,
   "metadata": {},
   "outputs": [
    {
     "name": "stdout",
     "output_type": "stream",
     "text": [
      "[1, 2, 3, 4, 5, 6, 7, 8, 9]\n"
     ]
    }
   ],
   "source": [
    "n_enteros=[5, 6, 7, 8]\n",
    "\n",
    "#metodo .append\n",
    "n_enteros.append(9)\n",
    "\n",
    "#metodo .extend\n",
    "extend=[1, 2, 3]\n",
    "n_enteros.extend(extend)\n",
    "\n",
    "#metodo .insert\n",
    "n_enteros.insert(8, 4)\n",
    "\n",
    "#metodo .sort\n",
    "n_enteros.sort()\n",
    "\n",
    "print(n_enteros)"
   ]
  },
  {
   "cell_type": "markdown",
   "metadata": {},
   "source": [
    "<h4>2. Manipulacion de Diccionarios y Metodos</h4>\n",
    "<li>Crea un diccionario con informacion de productos (nombre del producto, precio, cantidad en stock)</li>\n",
    "<li>Utiliza el metodo .keys() para obtener una lista de las llaves (nombres de productos) en el diccionario</li>\n",
    "<li>Utiliza el metodo .values() para obtener una lista de los valores (precios y cantidades) en el diccionario</li>\n",
    "<li>Utiliza el método .items() para obtener una lista de tuplas con pares clave-valor del diccionario</li>\n",
    "<li>Muestra cómo utilizar el método .get() para obtener el precio de un producto específico del diccionario</li>"
   ]
  },
  {
   "cell_type": "code",
   "execution_count": 34,
   "metadata": {},
   "outputs": [
    {
     "name": "stdout",
     "output_type": "stream",
     "text": [
      "Las llaves son:\n",
      "chocolate\n",
      "galleta\n",
      "alfajor\n",
      "\n",
      "Los valores son:\n",
      "{'precio': 1000, 'cantidad': 10}\n",
      "{'precio': 1400, 'cantidad': 20}\n",
      "{'precio': 800, 'cantidad': 15}\n",
      "\n",
      "Los items son:\n",
      "Clave: chocolate, Valor: {'precio': 1000, 'cantidad': 10}\n",
      "Clave: galleta, Valor: {'precio': 1400, 'cantidad': 20}\n",
      "Clave: alfajor, Valor: {'precio': 800, 'cantidad': 15}\n",
      "\n",
      "Valor de galleta:  {'precio': 1400, 'cantidad': 20}\n"
     ]
    }
   ],
   "source": [
    "productos={\n",
    "    \"chocolate\": {\"precio\": 1000, \"cantidad\": 10},\n",
    "    \"galleta\": {\"precio\": 1400, \"cantidad\": 20},\n",
    "    \"alfajor\": {\"precio\": 800, \"cantidad\": 15}\n",
    "}\n",
    "\n",
    "#Metodo .keys()\n",
    "claves=productos.keys()\n",
    "print(\"Las llaves son:\")\n",
    "for clave in claves:\n",
    "    print(clave)\n",
    "\n",
    "#Metodo .values()\n",
    "valores=productos.values()\n",
    "print(\"\\nLos valores son:\")\n",
    "for valor in valores:\n",
    "    print(valor)\n",
    "\n",
    "#metodo .items()\n",
    "items=productos.items()\n",
    "print(\"\\nLos items son:\")\n",
    "for clave, valor in items:\n",
    "    print(f\"Clave: {clave}, Valor: {valor}\")\n",
    "\n",
    "#metodo .get()\n",
    "print(\"\\nValores de galleta: \", productos.get(\"galleta\"))\n"
   ]
  },
  {
   "cell_type": "markdown",
   "metadata": {},
   "source": [
    "<h3>2. Datos Complejos</h3>\n",
    "<li>Crear una lista de diccionarios que represente información de libros (título, autor, año de publicación)</li>\n",
    "<li>Crear un diccionario que contenga listas como valores (por ejemplo, un diccionario de estudiantes y sus materias)</li>\n",
    "<li>Mostrar cómo modificar un valor en una lista dentro de un diccionario y viceversa</li>"
   ]
  },
  {
   "cell_type": "code",
   "execution_count": 38,
   "metadata": {},
   "outputs": [
    {
     "name": "stdout",
     "output_type": "stream",
     "text": [
      "['Manicuria', 'Historia', 'Inglés']\n",
      "2002\n"
     ]
    }
   ],
   "source": [
    "libros=[\n",
    "    {\"titulo\":\"El caso Fitzgerald\", \"autor\":\"John Grisham\", \"año de publicacion\":2019},\n",
    "    {\"titulo\":\"Gente de barro\", \"autor\":\"David Brin\", \"año de publicacion\":2000}\n",
    "]\n",
    "\n",
    "estudiantes = {\n",
    "    \"Facundo\": [\"Matemática\", \"Física\", \"Programacion\"],\n",
    "    \"Agustina\": [\"Literatura\", \"Historia\", \"Inglés\"]\n",
    "}\n",
    "\n",
    "#modificar un valor en una lista dentro de un diccionario\n",
    "estudiantes[\"Agustina\"][0]=\"Manicuria\"\n",
    "print(estudiantes[\"Agustina\"])\n",
    "\n",
    "#modificar un valor en un diccionario dentro de una lista\n",
    "libros[1][\"año de publicacion\"]=2002\n",
    "print(libros[1][\"año de publicacion\"])"
   ]
  }
 ],
 "metadata": {
  "kernelspec": {
   "display_name": "Python 3",
   "language": "python",
   "name": "python3"
  },
  "language_info": {
   "codemirror_mode": {
    "name": "ipython",
    "version": 3
   },
   "file_extension": ".py",
   "mimetype": "text/x-python",
   "name": "python",
   "nbconvert_exporter": "python",
   "pygments_lexer": "ipython3",
   "version": "3.12.0"
  }
 },
 "nbformat": 4,
 "nbformat_minor": 2
}
